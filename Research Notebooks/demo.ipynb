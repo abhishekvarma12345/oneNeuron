{
 "cells": [
  {
   "cell_type": "code",
   "execution_count": 1,
   "source": [
    "import numpy as np"
   ],
   "outputs": [],
   "metadata": {}
  },
  {
   "cell_type": "code",
   "execution_count": null,
   "source": [
    "from utils.model import Perceptron\r\n",
    "from utils.all_utils import prepare_data, save_model, save_plot\r\n",
    "import pandas as pd\r\n",
    "\r\n",
    "def main(data, eta, epochs, filename, plotFileName):\r\n",
    "    \r\n",
    "\r\n",
    "    df = pd.DataFrame(data)\r\n",
    "\r\n",
    "    print(df)\r\n",
    "\r\n",
    "    X,y = prepare_data(df)\r\n",
    "\r\n",
    "    \r\n",
    "\r\n",
    "    model = Perceptron(eta=eta, epochs=epochs)\r\n",
    "\r\n",
    "    model.fit(X,y)\r\n",
    "\r\n",
    "    _ = model.total_loss() # dummy variable\r\n",
    "\r\n",
    "    save_model(model,filename=filename)\r\n",
    "    save_plot(df, plotFileName, model)\r\n",
    "\r\n",
    "\r\n",
    "OR = {\r\n",
    "    \"x1\":[0,0,1,1],\r\n",
    "    \"x2\":[0,1,0,1],\r\n",
    "    \"y\":[0,1,1,1]\r\n",
    "}\r\n",
    "ETA = 0.3 # between 0 and 1\r\n",
    "EPOCHS = 10\r\n",
    "main(data=OR, eta=ETA, epochs=EPOCHS, filename=\"or.model\", plotFileName=\"or.png\")"
   ],
   "outputs": [],
   "metadata": {}
  }
 ],
 "metadata": {
  "language_info": {
   "name": "python",
   "version": "3.7.0",
   "mimetype": "text/x-python",
   "codemirror_mode": {
    "name": "ipython",
    "version": 3
   },
   "pygments_lexer": "ipython3",
   "nbconvert_exporter": "python",
   "file_extension": ".py"
  },
  "kernelspec": {
   "name": "python3",
   "display_name": "Python 3.7.0 64-bit ('oneNeuron': conda)"
  },
  "interpreter": {
   "hash": "036d17f3804cdf14688497d85582521f8a6fe61a84ba9a02dc8b9008d16eea25"
  }
 },
 "nbformat": 4,
 "nbformat_minor": 5
}